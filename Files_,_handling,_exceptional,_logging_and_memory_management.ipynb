{
  "nbformat": 4,
  "nbformat_minor": 0,
  "metadata": {
    "colab": {
      "provenance": []
    },
    "kernelspec": {
      "name": "python3",
      "display_name": "Python 3"
    },
    "language_info": {
      "name": "python"
    }
  },
  "cells": [
    {
      "cell_type": "markdown",
      "source": [
        "#1. What is the difference between interpreted and compiled languages?\n",
        "Compiled language are converted into byte code befor runtime while on the other hand interpreted language executed line by line during runtime.\n",
        "\n",
        "#2. What is exception handling in Python?\n",
        "Exception handling in python is a processes of handling and resolving the error occurs in a program. This involves catching exceptions, understanding the problem and handling that accordingly.\n",
        "\n",
        "#3. What is the purpose of the finally block in exception handling?\n",
        "The purpose of finally block is to perform the clean up operations(closing files, database connections, etc) or performing other final actions and ensuring proper program termination.\n",
        "\n",
        "#4. What is logging in Python?\n",
        "Logging in python refers to the process of recording the events that occue during the execution of a software program.It involves capturing and storing information about the program's behavior, including errors, warnings, informational messages, and debugging details.\n",
        "\n",
        "#5. What is the significance of the __del__ method in Python?\n",
        "The __del__ method in python is also known as destructor which is used to clean up the resource whenever an object is about to be destroyed.\n",
        "It's a concept of object oriented programming.\n",
        "\n",
        "#6. What is the difference between import and from ... import in Python?\n",
        "Import is used with modules whenever you want to import any module  while from is used with package.\n",
        "\n",
        "#7. How can you handle multiple exceptions in Python?\n",
        "This method handles the exception with separated except blocks stating all the specific exceptions that might occur.\n",
        "\n",
        "#8. What is the purpose of the with statement when handling files in Python?\n",
        "With statement ensures that the file is closed properly after the block of code is executed.\n",
        "\n",
        "#9. What is the difference between multithreading and multiprocessing?\n",
        "Multithreading means running the code concurrently on single process but on multiple threads and sharing same memory space while multiprocessing means running the code on multiple process/cores and each process has its own memory space and resources which are isolated from other processor.\n",
        "\n",
        "#10. What are the advantages of using logging in a program?\n",
        "Advantages of using logging in a program are:-\n",
        "1. Aiding to debugging.\n",
        "2. It allows to track events, identify errors and analyze the programme code.\n",
        "3. Performane monitoring\n",
        "4, Understanding application behaviour.\n",
        "\n",
        "#11. What is memory management in Python?\n",
        "Memory management in python ensure proper allocation of memory so that programme code run efficiently.\n",
        "\n",
        "#12. What are the basic steps involved in exception handling in Python?\n",
        "Steps:--\n",
        "1. Identifying the suspicious code that might raise an error.\n",
        "2. Put the suspicious code in 'try' block.\n",
        "3. Define exception handling into 'except' block.\n",
        "\n",
        "#13. Why is memory management important in Python?\n",
        "Memory management important in python because of following reasons:-\n",
        "1. It ensures proper alloaction of memory.\n",
        "2. Preventing memory leaks.\n",
        "3. Ensures proper resource management.\n",
        "4. Ensures proper optimization of performance.\n",
        "\n",
        "#14. What is the role of try and except in exception handling?\n",
        "Try and except in exception handling helps in handling the error that might occur in a program code.\n",
        "\n",
        "#15.  How does Python's garbage collection system work?\n",
        "Python's garbage collection system primarily uses reference counting and generational garbage collection to manage memory.\n",
        "\n",
        "#16. What is the purpose of the else block in exception handling?\n",
        "The purpose of else block in exception handling is to execute code when no exception raised  in try block of exception handling. It helps to get know that code runs successfully without any error.\n",
        "\n",
        "#17. What are the common logging levels in Python?\n",
        "There are five logging levels in python:-\n",
        "1. Debug\n",
        "2. Info\n",
        "3. Warning\n",
        "4. Error\n",
        "5. Critical\n",
        "\n",
        "#18. What is the difference between os.fork() and multiprocessing in Python?\n",
        "os.fork()\n",
        "1. Low-level system call used to create a child process by duplicating the current process.\n",
        "\n",
        "multiprocessing\n",
        "1. High-level module built into Python's standard library.\n",
        "2. Comes with tools like Queue, Pipe, Pool, Lock, Manager, etc., for inter-process communication and synchronization.\n",
        "\n",
        "#19. What is the importance of closing a file in Python?\n",
        "1. Data integrity\n",
        "2. Resource management\n",
        "3. file locking and access.\n",
        "4. It makes your code more robust and predictable.\n",
        "5. Opening files without closing them can quickly reach this limit, leading to IOError or other unexpected behavior.\n",
        "\n",
        "#20. What is the difference between file.read() and file.readline() in Python?\n",
        "file.read() is used to read the entire content of the file while onthe otherhand file.readline() is used to read the single line from the file.\n",
        "\n",
        "#21. What is the logging module in Python used for?\n",
        "logging module in python is used to track events in program's execution. It helps developer to record information about errors, warnings, and other events that occur during program execution.\n",
        "\n",
        "#22. What is the os module in Python used for in file handling?\n",
        "os module is in-built module in python used for interacting with os, like creating files, and directories and managing files and directories etc.\n",
        "\n",
        "#23. What are the challenges associated with memory management in Python?\n",
        "Following are the changes:-\n",
        "1. Memory Leaks\n",
        "2. Excessive Memory Consumption\n",
        "3. Performance Overhead of Garbage Collection\n",
        "4. Lack of Fine-Grained Control\n",
        "5. Difficulty in Diagnosing Memory Issues\n",
        "\n",
        "\n",
        "#24. How do you raise an exception manually in Python?\n",
        "By using 'raise' keyword you can add explicitly signal that there is exceptional error in code.\n",
        "\n",
        "#25.  Why is it important to use multithreading in certain applications?\n",
        "Multithreading is crucial for improving the performance, responsiveness, and resource utilization of applications, particularly those dealing with complex tasks or large datasets.\n",
        "\n"
      ],
      "metadata": {
        "id": "zkbHG4jyJFHA"
      }
    },
    {
      "cell_type": "code",
      "source": [
        "#1 How can you open a file for writing in Python and write a string to it?\n",
        "f = open(\"test.txt\", \"w\")\n",
        "f.write(\"Hey, I'm Divya\")\n",
        "f.close()"
      ],
      "metadata": {
        "id": "JeoSggz3e6l5"
      },
      "execution_count": null,
      "outputs": []
    },
    {
      "cell_type": "code",
      "source": [
        "#2 Write a Python program to read the contents of a file and print each line.\n",
        "f = open(\"test.txt\", \"r\")\n",
        "print(f.readlines())"
      ],
      "metadata": {
        "colab": {
          "base_uri": "https://localhost:8080/"
        },
        "id": "huV_URTmf8ui",
        "outputId": "08044e3e-e7ae-461b-e7f9-30a175ba54e9"
      },
      "execution_count": 5,
      "outputs": [
        {
          "output_type": "stream",
          "name": "stdout",
          "text": [
            "[\"Hey, I'm Divya\"]\n"
          ]
        }
      ]
    },
    {
      "cell_type": "code",
      "source": [
        "#3 How would you handle a case where the file doesn't exist while trying to open it for reading?\n",
        "try:\n",
        "  with open(\"file.txt\", \"r\") as file:\n",
        "    content = file.read()\n",
        "    print(content)\n",
        "\n",
        "except FileNotFoundError as e:\n",
        "  print(f\"the file doesn't exist: {e}\")"
      ],
      "metadata": {
        "colab": {
          "base_uri": "https://localhost:8080/"
        },
        "id": "O2-aLW44gs1c",
        "outputId": "7939808b-5c7e-4a1a-ba10-0c3011b04dcc"
      },
      "execution_count": 7,
      "outputs": [
        {
          "output_type": "stream",
          "name": "stdout",
          "text": [
            "the file doesn't exist: [Errno 2] No such file or directory: 'file.txt'\n"
          ]
        }
      ]
    },
    {
      "cell_type": "code",
      "source": [
        "#4.  Write a Python script that reads from one file and writes its content to another file?\n",
        "f = open(\"test1.txt\", \"w\")\n",
        "f1 = open(\"test.txt\", \"r\")\n",
        "f.write(f1.read())\n",
        "f1.close()\n",
        "f.close()\n",
        "\n",
        "f = open(\"test1.txt\", \"r\")\n",
        "f.read()\n",
        "\n"
      ],
      "metadata": {
        "colab": {
          "base_uri": "https://localhost:8080/",
          "height": 36
        },
        "id": "nNNw3TfohwGs",
        "outputId": "a97ba26d-3c33-4363-abd5-3a153e208102"
      },
      "execution_count": 16,
      "outputs": [
        {
          "output_type": "execute_result",
          "data": {
            "text/plain": [
              "\"Hey, I'm Divya\""
            ],
            "application/vnd.google.colaboratory.intrinsic+json": {
              "type": "string"
            }
          },
          "metadata": {},
          "execution_count": 16
        }
      ]
    },
    {
      "cell_type": "code",
      "source": [
        "#5 How would you catch and handle division by zero error in Python?\n",
        "try:\n",
        "  10/0\n",
        "\n",
        "except ZeroDivisionError as e:\n",
        "  print(e)"
      ],
      "metadata": {
        "colab": {
          "base_uri": "https://localhost:8080/"
        },
        "id": "mHUcTLgbkLeK",
        "outputId": "85f8f9f9-a68c-4612-f0c7-447f2475f94a"
      },
      "execution_count": 17,
      "outputs": [
        {
          "output_type": "stream",
          "name": "stdout",
          "text": [
            "division by zero\n"
          ]
        }
      ]
    },
    {
      "cell_type": "code",
      "source": [
        "#6 Write a Python program that logs an error message to a log file when a division by zero exception occurs.\n",
        "import logging\n",
        "logging.basicConfig(filename = \"test.log\", level = logging.ERROR, format = '%(asctime)s- %(levelname)s-%(message)s')\n",
        "\n",
        "try:\n",
        "  10/0\n",
        "\n",
        "except ZeroDivisionError as e:\n",
        "  logging.error(\"This is error: %s\", e)\n",
        "  print(\"error occured\")"
      ],
      "metadata": {
        "colab": {
          "base_uri": "https://localhost:8080/"
        },
        "id": "VSMHHLn1khji",
        "outputId": "9e0fa281-603a-4edc-f925-5eff15d51445"
      },
      "execution_count": 19,
      "outputs": [
        {
          "output_type": "stream",
          "name": "stderr",
          "text": [
            "ERROR:root:This is error: division by zero\n"
          ]
        },
        {
          "output_type": "stream",
          "name": "stdout",
          "text": [
            "error occured\n"
          ]
        }
      ]
    },
    {
      "cell_type": "code",
      "source": [
        "#7 How do you log information at different levels (INFO, ERROR, WARNING) in Python using the logging module?\n",
        "import logging\n",
        "logging.basicConfig(filename = \"test.log\", level = logging.info, format = '%(asctime)s-%(levelname)s-%(message)s')\n",
        "logging.info(\"This is info message\")\n",
        "logging.error('This is warning message')\n",
        "logging.warning('this is error message')\n",
        "\n"
      ],
      "metadata": {
        "colab": {
          "base_uri": "https://localhost:8080/"
        },
        "id": "g3lQT8ammWwD",
        "outputId": "d48f2571-10bb-49f0-c25a-267469675dc5"
      },
      "execution_count": 25,
      "outputs": [
        {
          "output_type": "stream",
          "name": "stderr",
          "text": [
            "ERROR:root:This is warning message\n",
            "WARNING:root:this is error message\n"
          ]
        }
      ]
    },
    {
      "cell_type": "code",
      "source": [
        "#8 Write a program to handle a file opening error using exception handlingF\n",
        "try:\n",
        "  with open('new_file.txt', \"r\") as file:\n",
        "    file.read()\n",
        "except FileNotFoundError as e:\n",
        "  print(e)\n"
      ],
      "metadata": {
        "colab": {
          "base_uri": "https://localhost:8080/"
        },
        "id": "kykyDvZGql2E",
        "outputId": "fdd72f22-daa0-42c8-8d56-66a2949f35de"
      },
      "execution_count": 29,
      "outputs": [
        {
          "output_type": "stream",
          "name": "stdout",
          "text": [
            "[Errno 2] No such file or directory: 'new_file.txt'\n"
          ]
        }
      ]
    },
    {
      "cell_type": "code",
      "source": [
        "#9 How can you read a file line by line and store its content in a list in Python\n",
        "with open(\"new1.txt\", \"w\") as file:\n",
        "  file.write('Another new file \\n')\n",
        "  file.write(' second line \\n')\n",
        "  file.write(' third line \\n')\n",
        "  file.close()\n",
        "file = open(\"new1.txt\", 'r')\n",
        "content= file.readlines()\n",
        "print(content)"
      ],
      "metadata": {
        "colab": {
          "base_uri": "https://localhost:8080/"
        },
        "id": "2CQbmBw4rjV2",
        "outputId": "c51c1c1a-2d3f-4732-b898-2b9159462aaf"
      },
      "execution_count": 44,
      "outputs": [
        {
          "output_type": "stream",
          "name": "stdout",
          "text": [
            "['Another new file \\n', ' second line \\n', ' third line \\n']\n"
          ]
        }
      ]
    },
    {
      "cell_type": "code",
      "source": [
        "#10 How can you append data to an existing file in Python?\n",
        "file = open('new1.txt', 'a')\n",
        "file.write(' fourth line \\n')\n",
        "file.close()\n",
        "file = open('new1.txt', 'r')\n",
        "file.read()"
      ],
      "metadata": {
        "colab": {
          "base_uri": "https://localhost:8080/",
          "height": 36
        },
        "id": "BAQRQiB4twZs",
        "outputId": "4cf173ba-df3e-43a1-9e15-29296119461a"
      },
      "execution_count": 46,
      "outputs": [
        {
          "output_type": "execute_result",
          "data": {
            "text/plain": [
              "'Another new file \\n second line \\n third line \\n fourth line \\n fourth line \\n'"
            ],
            "application/vnd.google.colaboratory.intrinsic+json": {
              "type": "string"
            }
          },
          "metadata": {},
          "execution_count": 46
        }
      ]
    },
    {
      "cell_type": "code",
      "source": [
        "#11 Write a Python program that uses a try-except block to handle an error when attempting to access a dictionary key that doesn't exist\n",
        "data = {'name' : 'ajay','course' : 'data science'}\n",
        "try:\n",
        "  d = data['age']\n",
        "  print(d)\n",
        "except KeyError as e:\n",
        "  print(f\"Error: Key not found in the dictionary.\")"
      ],
      "metadata": {
        "colab": {
          "base_uri": "https://localhost:8080/"
        },
        "id": "ADZoFGa3wEim",
        "outputId": "e875dedc-430e-438d-9302-09fac259fea5"
      },
      "execution_count": 9,
      "outputs": [
        {
          "output_type": "stream",
          "name": "stdout",
          "text": [
            "Error: Key not found in the dictionary.\n"
          ]
        }
      ]
    },
    {
      "cell_type": "code",
      "source": [
        "#12 Write a program that demonstrates using multiple except blocks to handle different types of exceptions\n",
        "try:\n",
        "  10/'0'\n",
        "except ZeroDivisionError as e:\n",
        "  print('this is zero division error',e)\n",
        "except TypeError as e:\n",
        "  print('this is type error', e)"
      ],
      "metadata": {
        "colab": {
          "base_uri": "https://localhost:8080/"
        },
        "id": "cpk1woeyw0TP",
        "outputId": "6b96d162-f05e-48d0-acb6-75a3ab751204"
      },
      "execution_count": 11,
      "outputs": [
        {
          "output_type": "stream",
          "name": "stdout",
          "text": [
            "this is type error unsupported operand type(s) for /: 'int' and 'str'\n"
          ]
        }
      ]
    },
    {
      "cell_type": "code",
      "source": [
        "#13 How would you check if a file exists before attempting to read it in Python?\n",
        "import os\n",
        "os.path.exists('test1.txt')"
      ],
      "metadata": {
        "colab": {
          "base_uri": "https://localhost:8080/"
        },
        "id": "Ybr4x5hjxbfz",
        "outputId": "e47ab22d-4b8e-411d-8a85-4c63451db413"
      },
      "execution_count": 18,
      "outputs": [
        {
          "output_type": "execute_result",
          "data": {
            "text/plain": [
              "False"
            ]
          },
          "metadata": {},
          "execution_count": 18
        }
      ]
    },
    {
      "cell_type": "code",
      "source": [
        "#14 Write a program that uses the logging module to log both informational and error messages?\n",
        "import logging\n",
        "logging.basicConfig(filename = 'test.log', level = logging.INFO, format = '%(asctime)s - %(levelname)s - %(message)s')\n",
        "\n",
        "logging.info('program started')\n",
        "\n",
        "try:\n",
        "  10/0\n",
        "except ZeroDivisionError as e:\n",
        "  logging.error('this is error message %s ', e)\n",
        "logging.info('program ended')"
      ],
      "metadata": {
        "colab": {
          "base_uri": "https://localhost:8080/"
        },
        "id": "XFtzHrSFzH9s",
        "outputId": "aa53bb55-8574-48e4-fc7a-6edc4bc1bb60"
      },
      "execution_count": 32,
      "outputs": [
        {
          "output_type": "stream",
          "name": "stderr",
          "text": [
            "ERROR:root:this is error message division by zero \n"
          ]
        }
      ]
    },
    {
      "cell_type": "code",
      "source": [
        "#15 Write a Python program that prints the content of a file and handles the case when the file is empty?\n",
        "try:\n",
        "  file_1 = open('good.txt', 'w')\n",
        "  file_1.close()\n",
        "  file_1 = open('good.txt', 'r')\n",
        "  content = file_1.read()\n",
        "  if not content:\n",
        "    print('file is empty')\n",
        "  else:\n",
        "    print(content)\n",
        "except FileNotFoundError as e:\n",
        "  print(f'file is empty , {e}')"
      ],
      "metadata": {
        "colab": {
          "base_uri": "https://localhost:8080/"
        },
        "id": "w63KiKRY29JV",
        "outputId": "3dc94474-8e9b-4e0e-bb16-bb7810b474f0"
      },
      "execution_count": 44,
      "outputs": [
        {
          "output_type": "stream",
          "name": "stdout",
          "text": [
            "file is empty\n"
          ]
        }
      ]
    },
    {
      "cell_type": "code",
      "source": [
        "#16 Demonstrate how to use memory profiling to check the memory usage of a small program.\n",
        "#we use memory_profiler package this tool aloows you to track the memory consumption of your code line by line, helping you identify memory bottlenecks and leaks."
      ],
      "metadata": {
        "id": "n7VQieA76fu-"
      },
      "execution_count": 46,
      "outputs": []
    },
    {
      "cell_type": "code",
      "source": [
        "#17 Write a Python program to create and write a list of numbers to a file, one number per line.\n",
        "numbers = [1,2, 3, 4, 5]\n",
        "with open('number.txt', 'w')as file:\n",
        "  for number in numbers:\n",
        "    file.write(f'{number}\\n')\n",
        "\n",
        "print(f\"numbers written successfully in {filename}\")\n"
      ],
      "metadata": {
        "colab": {
          "base_uri": "https://localhost:8080/"
        },
        "id": "VcIBog-F7asl",
        "outputId": "ede18176-7a7c-4591-9977-c7ce7c256c5a"
      },
      "execution_count": 54,
      "outputs": [
        {
          "output_type": "stream",
          "name": "stdout",
          "text": [
            "numbers written successfully in example.txt\n"
          ]
        }
      ]
    },
    {
      "cell_type": "code",
      "source": [
        "#18 How would you implement a basic logging setup that logs to a file with rotation after 1MB?\n",
        "import logging\n",
        "from logging.handlers import RotatingFileHandler\n",
        "import os\n",
        "\n",
        "log_file_name = \"rotating_test.log\"\n",
        "logging.basicConfig(level=logging.INFO)\n",
        "rotating_handler = RotatingFileHandler(\n",
        "    log_file_name,\n",
        "    maxBytes=1024 * 1024, # 1MB\n",
        "    backupCount=5\n",
        ")\n",
        "formatter = logging.Formatter('%(asctime)s - %(name)s - %(levelname)s - %(message)s')\n",
        "rotating_handler.setFormatter(formatter)\n",
        "\n",
        "logger = logging.getLogger('')\n",
        "logger.addHandler(rotating_handler)\n",
        "logger.info(\"This is an informational message.\")\n",
        "logger.warning(\"This is a warning message.\")\n",
        "logger.error(\"This is an error message.\")\n",
        "\n",
        "print(f\"Log messages are being written to '{log_file_name}' with rotation.\")\n",
        "\n"
      ],
      "metadata": {
        "colab": {
          "base_uri": "https://localhost:8080/"
        },
        "id": "omg_nBWEC3-n",
        "outputId": "f0960ebf-4b36-497b-c259-2509b6420953"
      },
      "execution_count": 66,
      "outputs": [
        {
          "output_type": "stream",
          "name": "stderr",
          "text": [
            "WARNING:root:This is a warning message.\n",
            "ERROR:root:This is an error message.\n"
          ]
        },
        {
          "output_type": "stream",
          "name": "stdout",
          "text": [
            "Log messages are being written to 'rotating_test.log' with rotation.\n"
          ]
        }
      ]
    },
    {
      "cell_type": "code",
      "source": [
        "#19 Write a program that handles both IndexError and KeyError using a try-except block\n",
        "d = [1, 2, 4, 5, 6, 7, 8]\n",
        "my_dict = {'name' : 'Divya', 'age' : 29, 'course': 'data analytics'}\n",
        "\n",
        "try:\n",
        "  print(d[9])\n",
        "  print(my_dict['adress'])\n",
        "\n",
        "except IndexError as e:\n",
        "  print(f'index error: {e}')\n",
        "\n",
        "except KeyError as e:\n",
        "  print(f'key error: {e}')\n"
      ],
      "metadata": {
        "colab": {
          "base_uri": "https://localhost:8080/"
        },
        "id": "kSNsOyc99EuZ",
        "outputId": "a522675c-a0ad-4a4e-98ab-2940492f402b"
      },
      "execution_count": 57,
      "outputs": [
        {
          "output_type": "stream",
          "name": "stdout",
          "text": [
            "index error: list index out of range\n"
          ]
        }
      ]
    },
    {
      "cell_type": "code",
      "source": [
        "#20 How would you open a file and read its contents using a context manager in Python?\n",
        "filename = open('number.txt', 'r')\n",
        "content = filename.read()\n",
        "print(content)"
      ],
      "metadata": {
        "colab": {
          "base_uri": "https://localhost:8080/"
        },
        "id": "7_wIOZs2-AIq",
        "outputId": "9d52861a-91e3-4f5d-a47c-dfda18d986e2"
      },
      "execution_count": 58,
      "outputs": [
        {
          "output_type": "stream",
          "name": "stdout",
          "text": [
            "1\n",
            "2\n",
            "3\n",
            "4\n",
            "5\n",
            "\n"
          ]
        }
      ]
    },
    {
      "cell_type": "code",
      "source": [
        "#21Write a Python program that reads a file and prints the number of occurrences of a specific word.\n",
        "\n",
        "file_name = open('repeat.txt', 'w')\n",
        "file_name.write('good, bad, better, better, good, best, right, good')\n",
        "file_name.close()\n",
        "\n",
        "file_name = open('repeat.txt', 'r')\n",
        "content = file_name.read()\n",
        "content.count('good')\n"
      ],
      "metadata": {
        "colab": {
          "base_uri": "https://localhost:8080/"
        },
        "id": "UAhHnKX2-dW9",
        "outputId": "211e9f33-d659-4f24-9d39-92998d8d40d2"
      },
      "execution_count": 59,
      "outputs": [
        {
          "output_type": "execute_result",
          "data": {
            "text/plain": [
              "3"
            ]
          },
          "metadata": {},
          "execution_count": 59
        }
      ]
    },
    {
      "cell_type": "code",
      "source": [
        "#22 How can you check if a file is empty before attempting to read its contents.\n",
        "file_name = open('empty.txt', 'w')\n",
        "file_name.close()\n",
        "file_name = open('empty.txt', 'r')\n",
        "content = file_name.read()\n",
        "if not content:\n",
        "  print('empty file')\n",
        "\n",
        "else:\n",
        "  print('content')"
      ],
      "metadata": {
        "colab": {
          "base_uri": "https://localhost:8080/"
        },
        "id": "JIbPvYGx_mcp",
        "outputId": "31c5a38e-616f-4c6b-ced9-82dd877562c0"
      },
      "execution_count": 60,
      "outputs": [
        {
          "output_type": "stream",
          "name": "stdout",
          "text": [
            "empty file\n"
          ]
        }
      ]
    },
    {
      "cell_type": "code",
      "source": [
        "#23 Write a Python program that writes to a log file when an error occurs during file handling.\n",
        "import logging\n",
        "logging.basicConfig(filename = 'test.log', level = logging.ERROR, format = '%(asctime)s - %(levelname)s - %(message)s')\n",
        "\n",
        "try:\n",
        "  with open('non_existing_file.txt', 'r') as file:\n",
        "        content = file.read()\n",
        "        print(content)\n",
        "\n",
        "except Exception as e:\n",
        "  logging.error(\"An error occurred while handling the file: %s\", e)\n",
        "  print(\"An error occurred.\")"
      ],
      "metadata": {
        "colab": {
          "base_uri": "https://localhost:8080/"
        },
        "id": "hiWH_rtqAC-r",
        "outputId": "c2d60a1f-6794-4658-bad3-e10db8baf183"
      },
      "execution_count": 64,
      "outputs": [
        {
          "output_type": "stream",
          "name": "stderr",
          "text": [
            "ERROR:root:An error occurred while handling the file: [Errno 2] No such file or directory: 'non_existing_file.txt'\n"
          ]
        },
        {
          "output_type": "stream",
          "name": "stdout",
          "text": [
            "An error occurred.\n"
          ]
        }
      ]
    }
  ]
}